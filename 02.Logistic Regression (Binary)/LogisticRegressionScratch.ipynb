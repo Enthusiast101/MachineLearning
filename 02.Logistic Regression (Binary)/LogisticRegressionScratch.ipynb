{
 "cells": [
  {
   "cell_type": "markdown",
   "id": "cfe1d37e-71bb-4ee9-ba53-d6039b60cffd",
   "metadata": {},
   "source": [
    "# Logistic Regression from scratch"
   ]
  },
  {
   "cell_type": "markdown",
   "id": "e5fb9e1f-d387-4925-a843-1fe62f40fa14",
   "metadata": {},
   "source": [
    "## Importing Modules"
   ]
  },
  {
   "cell_type": "code",
   "execution_count": 3,
   "id": "a290f7d2-4f3a-4957-b6ab-90f902b655ef",
   "metadata": {},
   "outputs": [],
   "source": [
    "import math\n",
    "import numpy as np\n",
    "import pandas as pd\n",
    "import matplotlib.pyplot as plt"
   ]
  },
  {
   "cell_type": "markdown",
   "id": "f469290c-eb83-4395-a2e5-00a97dd5840c",
   "metadata": {},
   "source": [
    "## Importing Data"
   ]
  },
  {
   "cell_type": "code",
   "execution_count": 4,
   "id": "e6fea3f1-f47b-4765-9afb-6b7c69e2f2d6",
   "metadata": {},
   "outputs": [
    {
     "data": {
      "text/html": [
       "<div>\n",
       "<style scoped>\n",
       "    .dataframe tbody tr th:only-of-type {\n",
       "        vertical-align: middle;\n",
       "    }\n",
       "\n",
       "    .dataframe tbody tr th {\n",
       "        vertical-align: top;\n",
       "    }\n",
       "\n",
       "    .dataframe thead th {\n",
       "        text-align: right;\n",
       "    }\n",
       "</style>\n",
       "<table border=\"1\" class=\"dataframe\">\n",
       "  <thead>\n",
       "    <tr style=\"text-align: right;\">\n",
       "      <th></th>\n",
       "      <th>satisfaction_level</th>\n",
       "      <th>last_evaluation</th>\n",
       "      <th>number_project</th>\n",
       "      <th>average_montly_hours</th>\n",
       "      <th>time_spend_company</th>\n",
       "      <th>Work_accident</th>\n",
       "      <th>left</th>\n",
       "      <th>promotion_last_5years</th>\n",
       "      <th>Department</th>\n",
       "      <th>salary</th>\n",
       "    </tr>\n",
       "  </thead>\n",
       "  <tbody>\n",
       "    <tr>\n",
       "      <th>0</th>\n",
       "      <td>0.81</td>\n",
       "      <td>0.66</td>\n",
       "      <td>3</td>\n",
       "      <td>181</td>\n",
       "      <td>2</td>\n",
       "      <td>1</td>\n",
       "      <td>0</td>\n",
       "      <td>0</td>\n",
       "      <td>sales</td>\n",
       "      <td>medium</td>\n",
       "    </tr>\n",
       "    <tr>\n",
       "      <th>1</th>\n",
       "      <td>0.75</td>\n",
       "      <td>0.75</td>\n",
       "      <td>5</td>\n",
       "      <td>133</td>\n",
       "      <td>2</td>\n",
       "      <td>0</td>\n",
       "      <td>0</td>\n",
       "      <td>0</td>\n",
       "      <td>sales</td>\n",
       "      <td>low</td>\n",
       "    </tr>\n",
       "    <tr>\n",
       "      <th>2</th>\n",
       "      <td>0.57</td>\n",
       "      <td>0.75</td>\n",
       "      <td>5</td>\n",
       "      <td>252</td>\n",
       "      <td>3</td>\n",
       "      <td>0</td>\n",
       "      <td>0</td>\n",
       "      <td>0</td>\n",
       "      <td>RandD</td>\n",
       "      <td>medium</td>\n",
       "    </tr>\n",
       "    <tr>\n",
       "      <th>3</th>\n",
       "      <td>0.41</td>\n",
       "      <td>0.48</td>\n",
       "      <td>2</td>\n",
       "      <td>130</td>\n",
       "      <td>3</td>\n",
       "      <td>0</td>\n",
       "      <td>1</td>\n",
       "      <td>0</td>\n",
       "      <td>support</td>\n",
       "      <td>high</td>\n",
       "    </tr>\n",
       "    <tr>\n",
       "      <th>4</th>\n",
       "      <td>0.76</td>\n",
       "      <td>0.77</td>\n",
       "      <td>5</td>\n",
       "      <td>133</td>\n",
       "      <td>2</td>\n",
       "      <td>0</td>\n",
       "      <td>0</td>\n",
       "      <td>0</td>\n",
       "      <td>sales</td>\n",
       "      <td>high</td>\n",
       "    </tr>\n",
       "  </tbody>\n",
       "</table>\n",
       "</div>"
      ],
      "text/plain": [
       "   satisfaction_level  last_evaluation  number_project  average_montly_hours  \\\n",
       "0                0.81             0.66               3                   181   \n",
       "1                0.75             0.75               5                   133   \n",
       "2                0.57             0.75               5                   252   \n",
       "3                0.41             0.48               2                   130   \n",
       "4                0.76             0.77               5                   133   \n",
       "\n",
       "   time_spend_company  Work_accident  left  promotion_last_5years Department  \\\n",
       "0                   2              1     0                      0      sales   \n",
       "1                   2              0     0                      0      sales   \n",
       "2                   3              0     0                      0      RandD   \n",
       "3                   3              0     1                      0    support   \n",
       "4                   2              0     0                      0      sales   \n",
       "\n",
       "   salary  \n",
       "0  medium  \n",
       "1     low  \n",
       "2  medium  \n",
       "3    high  \n",
       "4    high  "
      ]
     },
     "execution_count": 4,
     "metadata": {},
     "output_type": "execute_result"
    }
   ],
   "source": [
    "data = pd.read_csv(\"HR_data.csv\")\n",
    "data = data.sample(frac=1).reset_index(drop=True)\n",
    "data.head()"
   ]
  },
  {
   "cell_type": "code",
   "execution_count": 5,
   "id": "056654b9-36e4-436b-a2dc-e86d629eeb29",
   "metadata": {},
   "outputs": [
    {
     "data": {
      "text/plain": [
       "Department\n",
       "IT             1227\n",
       "RandD           787\n",
       "accounting      767\n",
       "hr              739\n",
       "management      630\n",
       "marketing       858\n",
       "product_mng     902\n",
       "sales          4140\n",
       "support        2229\n",
       "technical      2720\n",
       "Name: Department, dtype: int64"
      ]
     },
     "execution_count": 5,
     "metadata": {},
     "output_type": "execute_result"
    }
   ],
   "source": [
    "data.groupby(\"Department\")[\"Department\"].count()"
   ]
  },
  {
   "cell_type": "code",
   "execution_count": 6,
   "id": "407f4a44-12d8-49c6-96cb-fb34cda9e473",
   "metadata": {},
   "outputs": [
    {
     "data": {
      "text/plain": [
       "salary\n",
       "high      1237\n",
       "low       7316\n",
       "medium    6446\n",
       "Name: salary, dtype: int64"
      ]
     },
     "execution_count": 6,
     "metadata": {},
     "output_type": "execute_result"
    }
   ],
   "source": [
    "data.groupby(\"salary\")[\"salary\"].count()"
   ]
  },
  {
   "cell_type": "markdown",
   "id": "1c6655fa-a0d2-4171-ba5b-5347d3f2f27e",
   "metadata": {},
   "source": [
    "## One-Hot Encoding"
   ]
  },
  {
   "cell_type": "code",
   "execution_count": 7,
   "id": "e3fa23e2-9122-40bc-adaa-2e3af100a410",
   "metadata": {},
   "outputs": [],
   "source": [
    "data = pd.get_dummies(data, columns=[\"Department\", \"salary\"])"
   ]
  },
  {
   "cell_type": "code",
   "execution_count": 8,
   "id": "e735cbb2-26ec-416c-95ce-40e7f330190f",
   "metadata": {},
   "outputs": [
    {
     "data": {
      "text/html": [
       "<div>\n",
       "<style scoped>\n",
       "    .dataframe tbody tr th:only-of-type {\n",
       "        vertical-align: middle;\n",
       "    }\n",
       "\n",
       "    .dataframe tbody tr th {\n",
       "        vertical-align: top;\n",
       "    }\n",
       "\n",
       "    .dataframe thead th {\n",
       "        text-align: right;\n",
       "    }\n",
       "</style>\n",
       "<table border=\"1\" class=\"dataframe\">\n",
       "  <thead>\n",
       "    <tr style=\"text-align: right;\">\n",
       "      <th></th>\n",
       "      <th>satisfaction_level</th>\n",
       "      <th>last_evaluation</th>\n",
       "      <th>number_project</th>\n",
       "      <th>average_montly_hours</th>\n",
       "      <th>time_spend_company</th>\n",
       "      <th>Work_accident</th>\n",
       "      <th>left</th>\n",
       "      <th>promotion_last_5years</th>\n",
       "      <th>Department_IT</th>\n",
       "      <th>Department_RandD</th>\n",
       "      <th>...</th>\n",
       "      <th>Department_hr</th>\n",
       "      <th>Department_management</th>\n",
       "      <th>Department_marketing</th>\n",
       "      <th>Department_product_mng</th>\n",
       "      <th>Department_sales</th>\n",
       "      <th>Department_support</th>\n",
       "      <th>Department_technical</th>\n",
       "      <th>salary_high</th>\n",
       "      <th>salary_low</th>\n",
       "      <th>salary_medium</th>\n",
       "    </tr>\n",
       "  </thead>\n",
       "  <tbody>\n",
       "    <tr>\n",
       "      <th>0</th>\n",
       "      <td>0.81</td>\n",
       "      <td>0.66</td>\n",
       "      <td>3</td>\n",
       "      <td>181</td>\n",
       "      <td>2</td>\n",
       "      <td>1</td>\n",
       "      <td>0</td>\n",
       "      <td>0</td>\n",
       "      <td>False</td>\n",
       "      <td>False</td>\n",
       "      <td>...</td>\n",
       "      <td>False</td>\n",
       "      <td>False</td>\n",
       "      <td>False</td>\n",
       "      <td>False</td>\n",
       "      <td>True</td>\n",
       "      <td>False</td>\n",
       "      <td>False</td>\n",
       "      <td>False</td>\n",
       "      <td>False</td>\n",
       "      <td>True</td>\n",
       "    </tr>\n",
       "    <tr>\n",
       "      <th>1</th>\n",
       "      <td>0.75</td>\n",
       "      <td>0.75</td>\n",
       "      <td>5</td>\n",
       "      <td>133</td>\n",
       "      <td>2</td>\n",
       "      <td>0</td>\n",
       "      <td>0</td>\n",
       "      <td>0</td>\n",
       "      <td>False</td>\n",
       "      <td>False</td>\n",
       "      <td>...</td>\n",
       "      <td>False</td>\n",
       "      <td>False</td>\n",
       "      <td>False</td>\n",
       "      <td>False</td>\n",
       "      <td>True</td>\n",
       "      <td>False</td>\n",
       "      <td>False</td>\n",
       "      <td>False</td>\n",
       "      <td>True</td>\n",
       "      <td>False</td>\n",
       "    </tr>\n",
       "    <tr>\n",
       "      <th>2</th>\n",
       "      <td>0.57</td>\n",
       "      <td>0.75</td>\n",
       "      <td>5</td>\n",
       "      <td>252</td>\n",
       "      <td>3</td>\n",
       "      <td>0</td>\n",
       "      <td>0</td>\n",
       "      <td>0</td>\n",
       "      <td>False</td>\n",
       "      <td>True</td>\n",
       "      <td>...</td>\n",
       "      <td>False</td>\n",
       "      <td>False</td>\n",
       "      <td>False</td>\n",
       "      <td>False</td>\n",
       "      <td>False</td>\n",
       "      <td>False</td>\n",
       "      <td>False</td>\n",
       "      <td>False</td>\n",
       "      <td>False</td>\n",
       "      <td>True</td>\n",
       "    </tr>\n",
       "    <tr>\n",
       "      <th>3</th>\n",
       "      <td>0.41</td>\n",
       "      <td>0.48</td>\n",
       "      <td>2</td>\n",
       "      <td>130</td>\n",
       "      <td>3</td>\n",
       "      <td>0</td>\n",
       "      <td>1</td>\n",
       "      <td>0</td>\n",
       "      <td>False</td>\n",
       "      <td>False</td>\n",
       "      <td>...</td>\n",
       "      <td>False</td>\n",
       "      <td>False</td>\n",
       "      <td>False</td>\n",
       "      <td>False</td>\n",
       "      <td>False</td>\n",
       "      <td>True</td>\n",
       "      <td>False</td>\n",
       "      <td>True</td>\n",
       "      <td>False</td>\n",
       "      <td>False</td>\n",
       "    </tr>\n",
       "    <tr>\n",
       "      <th>4</th>\n",
       "      <td>0.76</td>\n",
       "      <td>0.77</td>\n",
       "      <td>5</td>\n",
       "      <td>133</td>\n",
       "      <td>2</td>\n",
       "      <td>0</td>\n",
       "      <td>0</td>\n",
       "      <td>0</td>\n",
       "      <td>False</td>\n",
       "      <td>False</td>\n",
       "      <td>...</td>\n",
       "      <td>False</td>\n",
       "      <td>False</td>\n",
       "      <td>False</td>\n",
       "      <td>False</td>\n",
       "      <td>True</td>\n",
       "      <td>False</td>\n",
       "      <td>False</td>\n",
       "      <td>True</td>\n",
       "      <td>False</td>\n",
       "      <td>False</td>\n",
       "    </tr>\n",
       "  </tbody>\n",
       "</table>\n",
       "<p>5 rows × 21 columns</p>\n",
       "</div>"
      ],
      "text/plain": [
       "   satisfaction_level  last_evaluation  number_project  average_montly_hours  \\\n",
       "0                0.81             0.66               3                   181   \n",
       "1                0.75             0.75               5                   133   \n",
       "2                0.57             0.75               5                   252   \n",
       "3                0.41             0.48               2                   130   \n",
       "4                0.76             0.77               5                   133   \n",
       "\n",
       "   time_spend_company  Work_accident  left  promotion_last_5years  \\\n",
       "0                   2              1     0                      0   \n",
       "1                   2              0     0                      0   \n",
       "2                   3              0     0                      0   \n",
       "3                   3              0     1                      0   \n",
       "4                   2              0     0                      0   \n",
       "\n",
       "   Department_IT  Department_RandD  ...  Department_hr  Department_management  \\\n",
       "0          False             False  ...          False                  False   \n",
       "1          False             False  ...          False                  False   \n",
       "2          False              True  ...          False                  False   \n",
       "3          False             False  ...          False                  False   \n",
       "4          False             False  ...          False                  False   \n",
       "\n",
       "   Department_marketing  Department_product_mng  Department_sales  \\\n",
       "0                 False                   False              True   \n",
       "1                 False                   False              True   \n",
       "2                 False                   False             False   \n",
       "3                 False                   False             False   \n",
       "4                 False                   False              True   \n",
       "\n",
       "   Department_support  Department_technical  salary_high  salary_low  \\\n",
       "0               False                 False        False       False   \n",
       "1               False                 False        False        True   \n",
       "2               False                 False        False       False   \n",
       "3                True                 False         True       False   \n",
       "4               False                 False         True       False   \n",
       "\n",
       "   salary_medium  \n",
       "0           True  \n",
       "1          False  \n",
       "2           True  \n",
       "3          False  \n",
       "4          False  \n",
       "\n",
       "[5 rows x 21 columns]"
      ]
     },
     "execution_count": 8,
     "metadata": {},
     "output_type": "execute_result"
    }
   ],
   "source": [
    "data.head()"
   ]
  },
  {
   "cell_type": "code",
   "execution_count": 9,
   "id": "d020ae56-0a1d-49bb-83cb-96d7276fa634",
   "metadata": {},
   "outputs": [
    {
     "data": {
      "text/html": [
       "<div>\n",
       "<style scoped>\n",
       "    .dataframe tbody tr th:only-of-type {\n",
       "        vertical-align: middle;\n",
       "    }\n",
       "\n",
       "    .dataframe tbody tr th {\n",
       "        vertical-align: top;\n",
       "    }\n",
       "\n",
       "    .dataframe thead th {\n",
       "        text-align: right;\n",
       "    }\n",
       "</style>\n",
       "<table border=\"1\" class=\"dataframe\">\n",
       "  <thead>\n",
       "    <tr style=\"text-align: right;\">\n",
       "      <th></th>\n",
       "      <th>satisfaction_level</th>\n",
       "      <th>last_evaluation</th>\n",
       "      <th>number_project</th>\n",
       "      <th>average_montly_hours</th>\n",
       "      <th>time_spend_company</th>\n",
       "      <th>Work_accident</th>\n",
       "      <th>left</th>\n",
       "      <th>promotion_last_5years</th>\n",
       "    </tr>\n",
       "  </thead>\n",
       "  <tbody>\n",
       "    <tr>\n",
       "      <th>0</th>\n",
       "      <td>0.81</td>\n",
       "      <td>0.66</td>\n",
       "      <td>3</td>\n",
       "      <td>181</td>\n",
       "      <td>2</td>\n",
       "      <td>1</td>\n",
       "      <td>0</td>\n",
       "      <td>0</td>\n",
       "    </tr>\n",
       "    <tr>\n",
       "      <th>1</th>\n",
       "      <td>0.75</td>\n",
       "      <td>0.75</td>\n",
       "      <td>5</td>\n",
       "      <td>133</td>\n",
       "      <td>2</td>\n",
       "      <td>0</td>\n",
       "      <td>0</td>\n",
       "      <td>0</td>\n",
       "    </tr>\n",
       "    <tr>\n",
       "      <th>2</th>\n",
       "      <td>0.57</td>\n",
       "      <td>0.75</td>\n",
       "      <td>5</td>\n",
       "      <td>252</td>\n",
       "      <td>3</td>\n",
       "      <td>0</td>\n",
       "      <td>0</td>\n",
       "      <td>0</td>\n",
       "    </tr>\n",
       "    <tr>\n",
       "      <th>3</th>\n",
       "      <td>0.41</td>\n",
       "      <td>0.48</td>\n",
       "      <td>2</td>\n",
       "      <td>130</td>\n",
       "      <td>3</td>\n",
       "      <td>0</td>\n",
       "      <td>1</td>\n",
       "      <td>0</td>\n",
       "    </tr>\n",
       "    <tr>\n",
       "      <th>4</th>\n",
       "      <td>0.76</td>\n",
       "      <td>0.77</td>\n",
       "      <td>5</td>\n",
       "      <td>133</td>\n",
       "      <td>2</td>\n",
       "      <td>0</td>\n",
       "      <td>0</td>\n",
       "      <td>0</td>\n",
       "    </tr>\n",
       "  </tbody>\n",
       "</table>\n",
       "</div>"
      ],
      "text/plain": [
       "   satisfaction_level  last_evaluation  number_project  average_montly_hours  \\\n",
       "0                0.81             0.66               3                   181   \n",
       "1                0.75             0.75               5                   133   \n",
       "2                0.57             0.75               5                   252   \n",
       "3                0.41             0.48               2                   130   \n",
       "4                0.76             0.77               5                   133   \n",
       "\n",
       "   time_spend_company  Work_accident  left  promotion_last_5years  \n",
       "0                   2              1     0                      0  \n",
       "1                   2              0     0                      0  \n",
       "2                   3              0     0                      0  \n",
       "3                   3              0     1                      0  \n",
       "4                   2              0     0                      0  "
      ]
     },
     "execution_count": 9,
     "metadata": {},
     "output_type": "execute_result"
    }
   ],
   "source": [
    "data = data.select_dtypes(include=[\"int64\", \"int32\", \"float64\", \"float32\"])\n",
    "data.head()"
   ]
  },
  {
   "cell_type": "markdown",
   "id": "7577dac6-4b78-47b5-b0d0-893f4d9ac61b",
   "metadata": {},
   "source": [
    "## Train-Test Split"
   ]
  },
  {
   "cell_type": "code",
   "execution_count": 10,
   "id": "65e42c55-278b-4e12-9224-07b0db2ddfca",
   "metadata": {},
   "outputs": [],
   "source": [
    "n = 100\n",
    "x_train, y_train = data[\"satisfaction_level\"][:n], data[\"left\"][:n]\n",
    "x_test, y_test = data[\"satisfaction_level\"][n:], data[\"left\"][n:]"
   ]
  },
  {
   "cell_type": "markdown",
   "id": "4990db7c-33ea-40f5-a200-2c447d94c4ae",
   "metadata": {},
   "source": [
    "## Plotting"
   ]
  },
  {
   "cell_type": "code",
   "execution_count": 11,
   "id": "b17fe3b8-c7ea-4227-a067-1f13e6bd4afe",
   "metadata": {},
   "outputs": [
    {
     "data": {
      "text/plain": [
       "(Text(0.5, 0, 'Satisfaction'), Text(0, 0.5, 'Left'))"
      ]
     },
     "execution_count": 11,
     "metadata": {},
     "output_type": "execute_result"
    },
    {
     "data": {
      "image/png": "[encoded data removed]",
      "text/plain": [
       "<Figure size 640x480 with 1 Axes>"
      ]
     },
     "metadata": {},
     "output_type": "display_data"
    }
   ],
   "source": [
    "for index in range(n):\n",
    "    x, y = x_train[index], y_train[index]\n",
    "    if y_train[index] == 1:\n",
    "        plt.scatter(x, y, marker=\"x\", color=\"red\")\n",
    "    else:\n",
    "        plt.scatter(x, y, marker=\"x\", color=\"blue\")\n",
    "        \n",
    "plt.xlabel(\"Satisfaction\"), plt.ylabel(\"Left\")"
   ]
  },
  {
   "cell_type": "markdown",
   "id": "2ea4c48b-63f7-48af-b114-9eb2de6c42a4",
   "metadata": {},
   "source": [
    "## Logistic Regression Algorithm"
   ]
  },
  {
   "cell_type": "code",
   "execution_count": 12,
   "id": "948d7207-2171-4472-a8e1-81a573dd828a",
   "metadata": {},
   "outputs": [],
   "source": [
    "def sigmoid(w, x, b):\n",
    "    return (1/ (1 + np.exp(-(w * x + b))))"
   ]
  },
  {
   "cell_type": "code",
   "execution_count": 13,
   "id": "86a42bc5-e26b-4c30-a48e-09ca3314a372",
   "metadata": {},
   "outputs": [],
   "source": [
    "def gradient_descent(x, y, w, b, N, lr, iterations=1000):\n",
    "    delta = 1e-15\n",
    "    plt_mse = np.array([])\n",
    "    for _ in range(iterations):\n",
    "        y_pred = sigmoid(w, x, b)\n",
    "\n",
    "        cost = -np.sum(y * np.log(y_pred + delta) + np.dot((1 - y), np.log(1 - y_pred + delta))) / N\n",
    "        plt_mse = np.append(plt_mse, np.array(cost))\n",
    "        \n",
    "        dw = np.sum(2 * np.dot(x, (y_pred - y))) / N\n",
    "        db = np.sum(2 * (y_pred - y)) / N\n",
    "        \n",
    "        w = w - lr * dw\n",
    "        b = b - lr * db\n",
    "        \n",
    "    return w, b, plt_mse"
   ]
  },
  {
   "cell_type": "markdown",
   "id": "b8bf4420-568a-4c51-928b-f08d8481fa05",
   "metadata": {},
   "source": [
    "## Visualizing Log-Loss vs iterations"
   ]
  },
  {
   "cell_type": "code",
   "execution_count": 14,
   "id": "5260278d-83ad-4c3e-8bf2-11fb1609681a",
   "metadata": {},
   "outputs": [
    {
     "data": {
      "image/png": "[encoded data removed]",
      "text/plain": [
       "<Figure size 640x480 with 1 Axes>"
      ]
     },
     "metadata": {},
     "output_type": "display_data"
    }
   ],
   "source": [
    "optimums = [[0.5e-2, \"red\"], [0.5e-3, \"orange\"], [0.5e-4, \"blue\"]]\n",
    "w_items, b_items = [], []\n",
    "plt.xlabel(\"Iterations\"), plt.ylabel(\"Log Loss\")\n",
    "for item in optimums:\n",
    "    num = 10\n",
    "    w, b, plt_mse = gradient_descent(x_train, y_train, 0, 0, n, item[0])\n",
    "    w_items.append(w), b_items.append(b)\n",
    "    iters = np.arange(1, len(plt_mse)+1)\n",
    "    plt.plot(iters[:num], plt_mse[:num], color=item[1])"
   ]
  },
  {
   "cell_type": "markdown",
   "id": "448a8ca5-5e2d-4114-ab11-d05efa7a2743",
   "metadata": {},
   "source": [
    "## Predictions"
   ]
  },
  {
   "cell_type": "code",
   "execution_count": 15,
   "id": "d9c2e92c-286d-489d-8e48-02f2d226259a",
   "metadata": {},
   "outputs": [
    {
     "name": "stdout",
     "output_type": "stream",
     "text": [
      "-0.7751834849383072 -0.7190165265510806\n"
     ]
    },
    {
     "data": {
      "text/plain": [
       "(Text(0.5, 0, 'Satisfaction'), Text(0, 0.5, 'Left'))"
      ]
     },
     "execution_count": 15,
     "metadata": {},
     "output_type": "execute_result"
    },
    {
     "data": {
      "image/png": "[encoded data removed]",
      "text/plain": [
       "<Figure size 640x480 with 1 Axes>"
      ]
     },
     "metadata": {},
     "output_type": "display_data"
    }
   ],
   "source": [
    "w, b = w_items[0], b_items[0]\n",
    "print(w, b)\n",
    "for index in range(n):\n",
    "    x, y = x_train[index], y_train[index]\n",
    "    if y_train[index] == 1:\n",
    "        plt.scatter(x, y, marker=\"x\", color=\"red\")\n",
    "    else:\n",
    "        plt.scatter(x, y, marker=\"x\", color=\"blue\")\n",
    "\n",
    "\n",
    "x = np.arange(-5, 5, 0.1)\n",
    "y_pred = sigmoid(x, w, b)\n",
    "plt.plot(x, y_pred, color=\"green\")\n",
    "        \n",
    "plt.xlabel(\"Satisfaction\"), plt.ylabel(\"Left\")"
   ]
  },
  {
   "cell_type": "code",
   "execution_count": null,
   "id": "1f03f64d",
   "metadata": {},
   "outputs": [],
   "source": []
  }
 ],
 "metadata": {
  "kernelspec": {
   "display_name": "gpuenv",
   "language": "python",
   "name": "python3"
  },
  "language_info": {
   "codemirror_mode": {
    "name": "ipython",
    "version": 3
   },
   "file_extension": ".py",
   "mimetype": "text/x-python",
   "name": "python",
   "nbconvert_exporter": "python",
   "pygments_lexer": "ipython3",
   "version": "3.11.4"
  }
 },
 "nbformat": 4,
 "nbformat_minor": 5
}
